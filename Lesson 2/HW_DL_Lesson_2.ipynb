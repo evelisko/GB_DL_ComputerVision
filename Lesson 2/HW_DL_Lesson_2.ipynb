{
 "cells": [
  {
   "cell_type": "markdown",
   "source": [
    "# Свёрточные нейронные сети (СНС)\n",
    "\n",
    "Реализовать и обучить (с нуля) СНС для задачи классификации изображений на датасете CIFAR-10\n",
    "Библиотеки: [Python, Tensorflow]"
   ],
   "metadata": {}
  }
 ],
 "metadata": {
  "orig_nbformat": 4,
  "language_info": {
   "name": "python"
  }
 },
 "nbformat": 4,
 "nbformat_minor": 2
}