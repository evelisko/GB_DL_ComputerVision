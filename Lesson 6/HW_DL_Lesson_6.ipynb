{
 "cells": [
  {
   "cell_type": "markdown",
   "source": [
    "# Урок 6. Metric learning. \n",
    "\n",
    "## Задание\n",
    "Обучить сиамскую сеть для верификации лиц на датасете LFW\n",
    "Библиотеки: [Python, Tensorflow]"
   ],
   "metadata": {}
  }
 ],
 "metadata": {
  "orig_nbformat": 4,
  "language_info": {
   "name": "python"
  }
 },
 "nbformat": 4,
 "nbformat_minor": 2
}