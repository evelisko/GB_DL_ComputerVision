{
 "cells": [
  {
   "cell_type": "markdown",
   "metadata": {},
   "source": [
    "# Урок 8. Синтез изображений\n",
    "\n",
    "## Задание.\n",
    "Реализовать синтезирование лиц из LFW с помощью DCGAN\n",
    "Библиотеки: [Python, Tensorflow]"
   ]
  }
 ],
 "metadata": {
  "language_info": {
   "name": "python"
  },
  "orig_nbformat": 4
 },
 "nbformat": 4,
 "nbformat_minor": 2
}
